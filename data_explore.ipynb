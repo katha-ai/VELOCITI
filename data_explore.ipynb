{
 "cells": [
  {
   "cell_type": "markdown",
   "metadata": {},
   "source": [
    "# VELOCITI: Data Exploration Notebook\n",
    "\n",
    "Goal of this notebook is to provide a data interaction interface, for various tests in the benchmark.\n",
    "\n",
    "### Pre-Requisites\n",
    "To be able to interact with this notebook, the dataset including the videos, and the provided `.JSON` files are required.\n",
    "\n",
    "Ensure That the Following Directories Exist\n",
    "\n",
    "- `videos/` containing \n",
    "  - Folder `velociti_videos_10s` (containing $900$  `.mp4` files).\n",
    "  - Folder `velociti_videos_4s` (containing $900$ sub-folders with 2 `.mp4` files in each sub-folder)\n",
    "\n",
    "- `data/` containing\n",
    "\n",
    "```\n",
    "  ├── action_adv.json\n",
    "  ├── action_bind.json\n",
    "  ├── action_mod.json\n",
    "  ├── agent_bind.json\n",
    "  ├── agent_iden.json\n",
    "  ├── control.json\n",
    "  ├── coref.json\n",
    "  ├── pos_caps.json\n",
    "  ├── sequence.json\n",
    "  └── vidsitu_dict.json\n",
    "```\n",
    "  "
   ]
  },
  {
   "cell_type": "markdown",
   "metadata": {},
   "source": [
    "### Imports"
   ]
  },
  {
   "cell_type": "code",
   "execution_count": 1,
   "metadata": {},
   "outputs": [],
   "source": [
    "import json\n",
    "from os.path import join\n",
    "from IPython.display import HTML, display\n",
    "from torch.utils.data import Dataset\n",
    "from easydict import EasyDict as edict"
   ]
  },
  {
   "cell_type": "code",
   "execution_count": 2,
   "metadata": {},
   "outputs": [],
   "source": [
    "data_dict = {\n",
    "        \"vidsitu_dict_path\"  : f'data/vidsitu_dict.json',\n",
    "        \"videos_path\"        : f'videos/',\n",
    "        \"agent_iden\"        : f'data/agent_iden.json',\n",
    "        \"agent_bind\"         : f'data/agent_bind.json',\n",
    "        \"action_adv\"         : f'data/action_adv.json',\n",
    "        \"action_mod\"         : f'data/action_mod.json',\n",
    "        \"coref\"              : f'data/coref.json',\n",
    "        \"seq\"                : f'data/sequence.json',\n",
    "        \"action_bind\"        : f'data/action_bind.json'}"
   ]
  },
  {
   "cell_type": "markdown",
   "metadata": {},
   "source": [
    "# 1. IVAT: Intra-Video Association Test Samples"
   ]
  },
  {
   "cell_type": "markdown",
   "metadata": {},
   "source": [
    "#### Helper Code"
   ]
  },
  {
   "cell_type": "code",
   "execution_count": 3,
   "metadata": {},
   "outputs": [],
   "source": [
    "class ivatDataset(Dataset):\n",
    "    \"\"\"\n",
    "    Dataset class for event-caption-matching task.\n",
    "    \"\"\"\n",
    "    def __init__(self, data_dict):\n",
    "        \"\"\"\n",
    "        data_dict -> dict : containing paths of all data.\n",
    "        \"\"\"\n",
    "        \n",
    "        self.data_dict = edict(data_dict)\n",
    "        self.vidsitu_dict = json.load(open(self.data_dict.vidsitu_dict_path, 'r'))\n",
    "        \n",
    "        self.videos_path = join(self.data_dict.videos_path, 'velociti_videos_4s')\n",
    "        self.vid_list = list(self.vidsitu_dict.keys())\n",
    "        \n",
    "    def __getitem__(self, idx):\n",
    "        vid_name = self.vid_list[idx]\n",
    "        \n",
    "        pos_cap_ev1 = self.vidsitu_dict[vid_name]['Ev1']['pos']\n",
    "        vid_name_ev1 = join(self.videos_path, vid_name, vid_name + \"_p1.mp4\")\n",
    "        \n",
    "        pos_cap_ev5 = self.vidsitu_dict[vid_name]['Ev5']['pos']\n",
    "        vid_name_ev5 = join(self.videos_path, vid_name, vid_name + \"_p2.mp4\")\n",
    "        \n",
    "        return {\n",
    "            'vid_name': vid_name,\n",
    "            'event': '(Ev1, Ev5)',\n",
    "            \"vid_part_1_path\": vid_name_ev1,\n",
    "            \"vid_part_2_path\": vid_name_ev5,\n",
    "            \"pos_cap_ev1\": pos_cap_ev1,\n",
    "            \"pos_cap_ev5\": pos_cap_ev5\n",
    "        }\n",
    "\n",
    "    def __len__(self):\n",
    "        return len(self.vid_list)\n",
    "    \n",
    "\n",
    "class negDataset(Dataset):\n",
    "    \"\"\"\n",
    "    Make this return all possibilities of captions.\n",
    "    Dataset for video-to-text tasks.\n",
    "    \"\"\"\n",
    "    def __init__(self, data_dict, neg_sampling):\n",
    "        \n",
    "        self.data_dict = edict(data_dict)\n",
    "        self.neg_sampling = neg_sampling\n",
    "        self.videos_path = join(self.data_dict.videos_path, 'velociti_videos_10s')\n",
    "                \n",
    "        if self.neg_sampling == 'agent_iden':\n",
    "            self.ev_data = json.load(open(self.data_dict.agent_iden, 'r'))\n",
    "            vid_list = list(self.ev_data.keys())\n",
    "        \n",
    "        elif self.neg_sampling == 'agent_bind':\n",
    "            self.ev_data = json.load(open(self.data_dict.agent_bind, 'r'))\n",
    "            vid_list = list(self.ev_data.keys())\n",
    "        \n",
    "        elif self.neg_sampling == 'action_adv':\n",
    "            self.ev_data = json.load(open(self.data_dict.action_adv, 'r'))\n",
    "            vid_list = list(self.ev_data.keys())\n",
    "        \n",
    "        elif self.neg_sampling == 'action_mod':\n",
    "            self.ev_data = json.load(open(self.data_dict.action_mod, 'r'))\n",
    "            vid_list = list(self.ev_data.keys())\n",
    "        \n",
    "        elif self.neg_sampling == 'action_bind':\n",
    "            self.ev_data = json.load(open(self.data_dict.action_bind, 'r'))\n",
    "            vid_list = list(self.ev_data.keys())\n",
    "        \n",
    "        elif self.neg_sampling == 'coref':\n",
    "            self.ev_data = json.load(open(self.data_dict.coref, 'r'))\n",
    "            vid_list = list(self.ev_data.keys())\n",
    "        \n",
    "        elif self.neg_sampling == 'sequence':\n",
    "            self.ev_data = json.load(open(self.data_dict.seq, 'r'))\n",
    "            vid_list = list(self.ev_data.keys())\n",
    "            \n",
    "\n",
    "        self.vid_ev_list = []\n",
    "        for vid in vid_list:\n",
    "            for ev in self.ev_data[vid]:\n",
    "                self.vid_ev_list.append((vid,ev))\n",
    "                \n",
    "    def __getitem__(self, idx):\n",
    "        vid_name, ev = self.vid_ev_list[idx]\n",
    "        vid_path = join(self.videos_path, vid_name + \".mp4\")\n",
    "        pos_cap = self.ev_data[vid_name][ev]['pos']\n",
    "        neg_cap = self.ev_data[vid_name][ev]['neg']\n",
    "        \n",
    "        data = {\n",
    "            'vid_name': vid_name,\n",
    "            'vid_path': vid_path,\n",
    "            'event': ev,\n",
    "            \"pos_cap\": pos_cap,\n",
    "            \"neg_cap\": neg_cap }\n",
    "        return data\n",
    "\n",
    "    def __len__(self):\n",
    "        return len(self.vid_ev_list)\n",
    "\n",
    "def display_videos_with_captions_2t2v(data):\n",
    "    # HTML template for displaying video and caption\n",
    "    template = '''\n",
    "    <div style=\"margin-bottom: 20px; padding: 10px;\">\n",
    "        <video width=\"640\" height=\"480\" controls>\n",
    "          <source src=\"{video_path}\" type=\"video/mp4\">\n",
    "        Your browser does not support the video tag.\n",
    "        </video>\n",
    "        <div style=\"background-color: #FFF44F; color: black; font-size: 18px; padding: 5px; margin-top: 5px;\">\n",
    "        <p style=\"font-size: 24px;\">{caption}</p>\n",
    "        </div>\n",
    "    </div>\n",
    "    '''\n",
    "\n",
    "    html_content = \"\"  # Initialize an empty string to aggregate HTML content\n",
    "\n",
    "    # Append each video and caption to the HTML content\n",
    "    \n",
    "    video1_html = template.format(video_path=data['vid_part_1_path'], caption=data['pos_cap_ev1'])\n",
    "    video2_html = template.format(video_path=data['vid_part_2_path'], caption=data['pos_cap_ev5'])\n",
    "    html_content += video1_html + video2_html  # Aggregate HTML\n",
    "\n",
    "    # Display the aggregated HTML content in the Jupyter notebook\n",
    "    display(HTML(html_content))\n",
    "    \n",
    "\n",
    "def display_video_with_captions_2t1v(data):\n",
    "    # HTML template for displaying video and two captions with different background colors\n",
    "    template = '''\n",
    "    <div style=\"margin-bottom: 20px; padding: 10px;\">\n",
    "        <video width=\"640\" height=\"480\" controls>\n",
    "          <source src=\"{video_path}\" type=\"video/mp4\">\n",
    "        Your browser does not support the video tag.\n",
    "        </video>\n",
    "        <div style=\"background-color: #90EE90; color: black; font-size: 24px; padding: 10px; margin-top: 10px;\">\n",
    "            {pos_caption}\n",
    "        </div>\n",
    "        <div style=\"background-color: #FF6347; color: black; font-size: 24px; padding: 10px; margin-top: 10px;\">\n",
    "            {neg_caption}\n",
    "        </div>\n",
    "    </div>\n",
    "    '''\n",
    "\n",
    "    # Generate the video and captions HTML content using the template\n",
    "    video_html = template.format(video_path=data['vid_path'], pos_caption=data['pos_cap'], neg_caption=data['neg_cap'])\n",
    "\n",
    "    # Display the HTML in the Jupyter notebook\n",
    "    display(HTML(video_html))\n",
    "\n",
    "# Example function usage:\n",
    "ivat_data = ivatDataset(data_dict)\n",
    "action_adv_data = negDataset(data_dict, 'action_adv')\n",
    "action_mod_data = negDataset(data_dict, 'action_mod')\n",
    "agent_bind_data = negDataset(data_dict, 'agent_bind')\n",
    "agent_ident_data = negDataset(data_dict, 'agent_iden')\n",
    "action_bind_data = negDataset(data_dict, 'action_bind')\n",
    "agent_coref_data = negDataset(data_dict, 'coref')\n",
    "seq_data = negDataset(data_dict, 'sequence')\n",
    "\n",
    "def browse_ivat_sample(sample_idx, dataset=ivat_data):\n",
    "    sample = dataset.__getitem__(sample_idx)\n",
    "    print(f\"Video Name: SAMPLE INDEX {sample_idx}\")\n",
    "    display_videos_with_captions_2t2v(sample)\n",
    "\n",
    "def browse_neg_sample(sampling, sample_idx, dataset=action_adv_data):\n",
    "    if sampling == 'action_adv':\n",
    "        dataset = action_adv_data\n",
    "    elif sampling == 'action_mod':\n",
    "        dataset = action_mod_data\n",
    "    elif sampling == 'agent_bind':\n",
    "        dataset = agent_bind_data\n",
    "    elif sampling == 'agent_iden':\n",
    "        dataset = agent_ident_data\n",
    "    elif sampling == 'action_bind':\n",
    "        dataset = action_bind_data\n",
    "    elif sampling == 'coref':\n",
    "        dataset = agent_coref_data\n",
    "    elif sampling == 'sequence':\n",
    "        dataset = seq_data\n",
    "        \n",
    "    sample = dataset.__getitem__(sample_idx)\n",
    "    print(f\"Video Name: {sample['vid_name']} | SAMPLE INDEX {sample_idx}\")\n",
    "    display_video_with_captions_2t1v(sample)\n"
   ]
  },
  {
   "cell_type": "markdown",
   "metadata": {},
   "source": [
    "# Start Browsing\n",
    "### Any Index from `[0, 719)` is Valid."
   ]
  },
  {
   "cell_type": "code",
   "execution_count": 4,
   "metadata": {},
   "outputs": [
    {
     "name": "stdout",
     "output_type": "stream",
     "text": [
      "Video Name: SAMPLE INDEX 30\n"
     ]
    },
    {
     "data": {
      "text/html": [
       "\n",
       "    <div style=\"margin-bottom: 20px; padding: 10px;\">\n",
       "        <video width=\"640\" height=\"480\" controls>\n",
       "          <source src=\"videos/velociti_videos_4s/v_0mmSi-63Y9U_seg_50_60/v_0mmSi-63Y9U_seg_50_60_p1.mp4\" type=\"video/mp4\">\n",
       "        Your browser does not support the video tag.\n",
       "        </video>\n",
       "        <div style=\"background-color: #FFF44F; color: black; font-size: 18px; padding: 5px; margin-top: 5px;\">\n",
       "        <p style=\"font-size: 24px;\">In the bathtub, the lady with dark hair is casually covering her body.</p>\n",
       "        </div>\n",
       "    </div>\n",
       "    \n",
       "    <div style=\"margin-bottom: 20px; padding: 10px;\">\n",
       "        <video width=\"640\" height=\"480\" controls>\n",
       "          <source src=\"videos/velociti_videos_4s/v_0mmSi-63Y9U_seg_50_60/v_0mmSi-63Y9U_seg_50_60_p2.mp4\" type=\"video/mp4\">\n",
       "        Your browser does not support the video tag.\n",
       "        </video>\n",
       "        <div style=\"background-color: #FFF44F; color: black; font-size: 18px; padding: 5px; margin-top: 5px;\">\n",
       "        <p style=\"font-size: 24px;\">Outside the bathroom, the lady with dark hair walks casually out of the room.</p>\n",
       "        </div>\n",
       "    </div>\n",
       "    "
      ],
      "text/plain": [
       "<IPython.core.display.HTML object>"
      ]
     },
     "metadata": {},
     "output_type": "display_data"
    }
   ],
   "source": [
    "browse_ivat_sample(30)"
   ]
  },
  {
   "cell_type": "code",
   "execution_count": 4,
   "metadata": {},
   "outputs": [
    {
     "name": "stdout",
     "output_type": "stream",
     "text": [
      "Video Name: SAMPLE INDEX 50\n"
     ]
    },
    {
     "data": {
      "text/html": [
       "\n",
       "    <div style=\"margin-bottom: 20px; padding: 10px;\">\n",
       "        <video width=\"640\" height=\"480\" controls>\n",
       "          <source src=\"videos/velociti_videos_4s/v_3e-DXYUvxys_seg_20_30/v_3e-DXYUvxys_seg_20_30_p1.mp4\" type=\"video/mp4\">\n",
       "        Your browser does not support the video tag.\n",
       "        </video>\n",
       "        <div style=\"background-color: #FFF44F; color: black; font-size: 18px; padding: 5px; margin-top: 5px;\">\n",
       "        <p style=\"font-size: 24px;\">In a tunnel, a man in military uniform is running forward.</p>\n",
       "        </div>\n",
       "    </div>\n",
       "    \n",
       "    <div style=\"margin-bottom: 20px; padding: 10px;\">\n",
       "        <video width=\"640\" height=\"480\" controls>\n",
       "          <source src=\"videos/velociti_videos_4s/v_3e-DXYUvxys_seg_20_30/v_3e-DXYUvxys_seg_20_30_p2.mp4\" type=\"video/mp4\">\n",
       "        Your browser does not support the video tag.\n",
       "        </video>\n",
       "        <div style=\"background-color: #FFF44F; color: black; font-size: 18px; padding: 5px; margin-top: 5px;\">\n",
       "        <p style=\"font-size: 24px;\">In a dusty area with trees, a soldier with a dirty face is running forward.</p>\n",
       "        </div>\n",
       "    </div>\n",
       "    "
      ],
      "text/plain": [
       "<IPython.core.display.HTML object>"
      ]
     },
     "metadata": {},
     "output_type": "display_data"
    }
   ],
   "source": [
    "browse_ivat_sample(50)"
   ]
  },
  {
   "cell_type": "markdown",
   "metadata": {},
   "source": [
    "# 2. Action Adversarial Test Samples\n",
    "### Any Index from `[0, 500)` is Valid."
   ]
  },
  {
   "cell_type": "code",
   "execution_count": 5,
   "metadata": {},
   "outputs": [
    {
     "name": "stdout",
     "output_type": "stream",
     "text": [
      "Video Name: v_1cCEE8-jhus_seg_60_70 | SAMPLE INDEX 20\n"
     ]
    },
    {
     "data": {
      "text/html": [
       "\n",
       "    <div style=\"margin-bottom: 20px; padding: 10px;\">\n",
       "        <video width=\"640\" height=\"480\" controls>\n",
       "          <source src=\"videos/velociti_videos_10s/v_1cCEE8-jhus_seg_60_70.mp4\" type=\"video/mp4\">\n",
       "        Your browser does not support the video tag.\n",
       "        </video>\n",
       "        <div style=\"background-color: #90EE90; color: black; font-size: 24px; padding: 10px; margin-top: 10px;\">\n",
       "            In a kitchen, a woman in a pink vest puts a box on the counter with a smile.\n",
       "        </div>\n",
       "        <div style=\"background-color: #FF6347; color: black; font-size: 24px; padding: 10px; margin-top: 10px;\">\n",
       "            In a kitchen, a woman in a pink vest is removing a box from the counter.\n",
       "        </div>\n",
       "    </div>\n",
       "    "
      ],
      "text/plain": [
       "<IPython.core.display.HTML object>"
      ]
     },
     "metadata": {},
     "output_type": "display_data"
    }
   ],
   "source": [
    "browse_neg_sample('action_adv', sample_idx=20)"
   ]
  },
  {
   "cell_type": "markdown",
   "metadata": {},
   "source": [
    "# 3. Action Modifier Test Samples\n",
    "### Anything from `[0, 514)` is a valid index."
   ]
  },
  {
   "cell_type": "code",
   "execution_count": 6,
   "metadata": {},
   "outputs": [
    {
     "name": "stdout",
     "output_type": "stream",
     "text": [
      "Video Name: v_3WCcFVnEKh0_seg_60_70 | SAMPLE INDEX 22\n"
     ]
    },
    {
     "data": {
      "text/html": [
       "\n",
       "    <div style=\"margin-bottom: 20px; padding: 10px;\">\n",
       "        <video width=\"640\" height=\"480\" controls>\n",
       "          <source src=\"videos/velociti_videos_10s/v_3WCcFVnEKh0_seg_60_70.mp4\" type=\"video/mp4\">\n",
       "        Your browser does not support the video tag.\n",
       "        </video>\n",
       "        <div style=\"background-color: #90EE90; color: black; font-size: 24px; padding: 10px; margin-top: 10px;\">\n",
       "            In the parking lot, a man in suit shuts a car door while looking across the lot.\n",
       "        </div>\n",
       "        <div style=\"background-color: #FF6347; color: black; font-size: 24px; padding: 10px; margin-top: 10px;\">\n",
       "            In the parking lot, the man in a suit shuts the car door while looking down at his phone.\n",
       "        </div>\n",
       "    </div>\n",
       "    "
      ],
      "text/plain": [
       "<IPython.core.display.HTML object>"
      ]
     },
     "metadata": {},
     "output_type": "display_data"
    }
   ],
   "source": [
    "browse_neg_sample('action_mod', sample_idx=22)"
   ]
  },
  {
   "cell_type": "code",
   "execution_count": 7,
   "metadata": {},
   "outputs": [
    {
     "name": "stdout",
     "output_type": "stream",
     "text": [
      "Video Name: v_zz0w0KDwhWg_seg_65_75 | SAMPLE INDEX 513\n"
     ]
    },
    {
     "data": {
      "text/html": [
       "\n",
       "    <div style=\"margin-bottom: 20px; padding: 10px;\">\n",
       "        <video width=\"640\" height=\"480\" controls>\n",
       "          <source src=\"videos/velociti_videos_10s/v_zz0w0KDwhWg_seg_65_75.mp4\" type=\"video/mp4\">\n",
       "        Your browser does not support the video tag.\n",
       "        </video>\n",
       "        <div style=\"background-color: #90EE90; color: black; font-size: 24px; padding: 10px; margin-top: 10px;\">\n",
       "            Outside, the boy in a blue t-shirt is looking slowly down at a vehicle.\n",
       "        </div>\n",
       "        <div style=\"background-color: #FF6347; color: black; font-size: 24px; padding: 10px; margin-top: 10px;\">\n",
       "            Outside, the boy in a blue t-shirt looks down at the vehicle quickly.\n",
       "        </div>\n",
       "    </div>\n",
       "    "
      ],
      "text/plain": [
       "<IPython.core.display.HTML object>"
      ]
     },
     "metadata": {},
     "output_type": "display_data"
    }
   ],
   "source": [
    "browse_neg_sample('action_mod', sample_idx=513)"
   ]
  },
  {
   "cell_type": "markdown",
   "metadata": {},
   "source": [
    "# 4. Agent Binding Test Samples\n",
    "### Anything from `[0, 1676)` is a valid index."
   ]
  },
  {
   "cell_type": "code",
   "execution_count": 8,
   "metadata": {},
   "outputs": [
    {
     "name": "stdout",
     "output_type": "stream",
     "text": [
      "Video Name: v_-vE1JNGKvxQ_seg_15_25 | SAMPLE INDEX 11\n"
     ]
    },
    {
     "data": {
      "text/html": [
       "\n",
       "    <div style=\"margin-bottom: 20px; padding: 10px;\">\n",
       "        <video width=\"640\" height=\"480\" controls>\n",
       "          <source src=\"videos/velociti_videos_10s/v_-vE1JNGKvxQ_seg_15_25.mp4\" type=\"video/mp4\">\n",
       "        Your browser does not support the video tag.\n",
       "        </video>\n",
       "        <div style=\"background-color: #90EE90; color: black; font-size: 24px; padding: 10px; margin-top: 10px;\">\n",
       "            In a parking lot, a man and woman are walking awkwardly together towards a car.\n",
       "        </div>\n",
       "        <div style=\"background-color: #FF6347; color: black; font-size: 24px; padding: 10px; margin-top: 10px;\">\n",
       "            In a parking lot, a man in a sheriff uniform is walking awkwardly towards a car with someone.\n",
       "        </div>\n",
       "    </div>\n",
       "    "
      ],
      "text/plain": [
       "<IPython.core.display.HTML object>"
      ]
     },
     "metadata": {},
     "output_type": "display_data"
    }
   ],
   "source": [
    "browse_neg_sample('agent_bind', sample_idx=11)"
   ]
  },
  {
   "cell_type": "markdown",
   "metadata": {},
   "source": [
    "# 5. Agent Identification Test\n",
    "### Anything in range `[0, 1000)` is a valid index."
   ]
  },
  {
   "cell_type": "code",
   "execution_count": 9,
   "metadata": {},
   "outputs": [
    {
     "name": "stdout",
     "output_type": "stream",
     "text": [
      "Video Name: v_05-e-YTw4r8_seg_110_120 | SAMPLE INDEX 10\n"
     ]
    },
    {
     "data": {
      "text/html": [
       "\n",
       "    <div style=\"margin-bottom: 20px; padding: 10px;\">\n",
       "        <video width=\"640\" height=\"480\" controls>\n",
       "          <source src=\"videos/velociti_videos_10s/v_05-e-YTw4r8_seg_110_120.mp4\" type=\"video/mp4\">\n",
       "        Your browser does not support the video tag.\n",
       "        </video>\n",
       "        <div style=\"background-color: #90EE90; color: black; font-size: 24px; padding: 10px; margin-top: 10px;\">\n",
       "            Inside a car, a man in a red flannel shirt is coughing.\n",
       "        </div>\n",
       "        <div style=\"background-color: #FF6347; color: black; font-size: 24px; padding: 10px; margin-top: 10px;\">\n",
       "            Inside the car, the firefighter is coughing.\n",
       "        </div>\n",
       "    </div>\n",
       "    "
      ],
      "text/plain": [
       "<IPython.core.display.HTML object>"
      ]
     },
     "metadata": {},
     "output_type": "display_data"
    }
   ],
   "source": [
    "browse_neg_sample('agent_iden', sample_idx=10)"
   ]
  },
  {
   "cell_type": "code",
   "execution_count": 16,
   "metadata": {},
   "outputs": [
    {
     "name": "stdout",
     "output_type": "stream",
     "text": [
      "Video Name: v_zz0w0KDwhWg_seg_85_95 | SAMPLE INDEX 999\n"
     ]
    },
    {
     "data": {
      "text/html": [
       "\n",
       "    <div style=\"margin-bottom: 20px; padding: 10px;\">\n",
       "        <video width=\"640\" height=\"480\" controls>\n",
       "          <source src=\"videos/velociti_videos_10s/v_zz0w0KDwhWg_seg_85_95.mp4\" type=\"video/mp4\">\n",
       "        Your browser does not support the video tag.\n",
       "        </video>\n",
       "        <div style=\"background-color: #90EE90; color: black; font-size: 24px; padding: 10px; margin-top: 10px;\">\n",
       "            In a bedroom, the boy in white looks slowly downward at the ground.\n",
       "        </div>\n",
       "        <div style=\"background-color: #FF6347; color: black; font-size: 24px; padding: 10px; margin-top: 10px;\">\n",
       "            In a bedroom, the man in blue is looking downward at the ground slowly.\n",
       "        </div>\n",
       "    </div>\n",
       "    "
      ],
      "text/plain": [
       "<IPython.core.display.HTML object>"
      ]
     },
     "metadata": {},
     "output_type": "display_data"
    }
   ],
   "source": [
    "browse_neg_sample('agent_iden', sample_idx=999)"
   ]
  },
  {
   "cell_type": "markdown",
   "metadata": {},
   "source": [
    "# 6. Action Binding Test\n",
    "### Anything from `[0, 1625)` is a valid index."
   ]
  },
  {
   "cell_type": "code",
   "execution_count": 10,
   "metadata": {},
   "outputs": [
    {
     "name": "stdout",
     "output_type": "stream",
     "text": [
      "Video Name: v_Vc_4eoSHwK8_seg_25_35 | SAMPLE INDEX 11\n"
     ]
    },
    {
     "data": {
      "text/html": [
       "\n",
       "    <div style=\"margin-bottom: 20px; padding: 10px;\">\n",
       "        <video width=\"640\" height=\"480\" controls>\n",
       "          <source src=\"videos/velociti_videos_10s/v_Vc_4eoSHwK8_seg_25_35.mp4\" type=\"video/mp4\">\n",
       "        Your browser does not support the video tag.\n",
       "        </video>\n",
       "        <div style=\"background-color: #90EE90; color: black; font-size: 24px; padding: 10px; margin-top: 10px;\">\n",
       "            In a bar, a man in a black suit is staring shocked at a ghost in glasses right in front of him.\n",
       "        </div>\n",
       "        <div style=\"background-color: #FF6347; color: black; font-size: 24px; padding: 10px; margin-top: 10px;\">\n",
       "            In a bar, the man in a black suit is chugging alcohol from a glass.\n",
       "        </div>\n",
       "    </div>\n",
       "    "
      ],
      "text/plain": [
       "<IPython.core.display.HTML object>"
      ]
     },
     "metadata": {},
     "output_type": "display_data"
    }
   ],
   "source": [
    "browse_neg_sample('action_bind', sample_idx=11)"
   ]
  },
  {
   "cell_type": "code",
   "execution_count": 18,
   "metadata": {},
   "outputs": [
    {
     "name": "stdout",
     "output_type": "stream",
     "text": [
      "Video Name: v_S-2cloMm4Lk_seg_95_105 | SAMPLE INDEX 1624\n"
     ]
    },
    {
     "data": {
      "text/html": [
       "\n",
       "    <div style=\"margin-bottom: 20px; padding: 10px;\">\n",
       "        <video width=\"640\" height=\"480\" controls>\n",
       "          <source src=\"videos/velociti_videos_10s/v_S-2cloMm4Lk_seg_95_105.mp4\" type=\"video/mp4\">\n",
       "        Your browser does not support the video tag.\n",
       "        </video>\n",
       "        <div style=\"background-color: #90EE90; color: black; font-size: 24px; padding: 10px; margin-top: 10px;\">\n",
       "            On a street with fire, a man wearing a scary face mask is throwing a heavy metal object mightily to the ground.\n",
       "        </div>\n",
       "        <div style=\"background-color: #FF6347; color: black; font-size: 24px; padding: 10px; margin-top: 10px;\">\n",
       "            On the street, which is parked with cars, the man with a scary face mask is firing a rifle into the battle zone.\n",
       "        </div>\n",
       "    </div>\n",
       "    "
      ],
      "text/plain": [
       "<IPython.core.display.HTML object>"
      ]
     },
     "metadata": {},
     "output_type": "display_data"
    }
   ],
   "source": [
    "browse_neg_sample('action_bind', sample_idx=1624)"
   ]
  },
  {
   "cell_type": "markdown",
   "metadata": {},
   "source": [
    "# 7. Agent Co-Rerence Test Samples\n",
    "### Anything from `[0, 418)` is a valid index."
   ]
  },
  {
   "cell_type": "code",
   "execution_count": 11,
   "metadata": {},
   "outputs": [
    {
     "name": "stdout",
     "output_type": "stream",
     "text": [
      "Video Name: v_bZq6Gv7rP0w_seg_65_75 | SAMPLE INDEX 11\n"
     ]
    },
    {
     "data": {
      "text/html": [
       "\n",
       "    <div style=\"margin-bottom: 20px; padding: 10px;\">\n",
       "        <video width=\"640\" height=\"480\" controls>\n",
       "          <source src=\"videos/velociti_videos_10s/v_bZq6Gv7rP0w_seg_65_75.mp4\" type=\"video/mp4\">\n",
       "        Your browser does not support the video tag.\n",
       "        </video>\n",
       "        <div style=\"background-color: #90EE90; color: black; font-size: 24px; padding: 10px; margin-top: 10px;\">\n",
       "            The person who is slowly grabbing the headphones that are on her head is also the one who is writing something.\n",
       "        </div>\n",
       "        <div style=\"background-color: #FF6347; color: black; font-size: 24px; padding: 10px; margin-top: 10px;\">\n",
       "            The person who is slowly grabbing the headphones that are on her head is also the one who is slowly walking away.\n",
       "        </div>\n",
       "    </div>\n",
       "    "
      ],
      "text/plain": [
       "<IPython.core.display.HTML object>"
      ]
     },
     "metadata": {},
     "output_type": "display_data"
    }
   ],
   "source": [
    "browse_neg_sample('coref', sample_idx=11)"
   ]
  },
  {
   "cell_type": "code",
   "execution_count": 20,
   "metadata": {},
   "outputs": [
    {
     "name": "stdout",
     "output_type": "stream",
     "text": [
      "Video Name: v_MnosttqGIfw_seg_145_155 | SAMPLE INDEX 417\n"
     ]
    },
    {
     "data": {
      "text/html": [
       "\n",
       "    <div style=\"margin-bottom: 20px; padding: 10px;\">\n",
       "        <video width=\"640\" height=\"480\" controls>\n",
       "          <source src=\"videos/velociti_videos_10s/v_MnosttqGIfw_seg_145_155.mp4\" type=\"video/mp4\">\n",
       "        Your browser does not support the video tag.\n",
       "        </video>\n",
       "        <div style=\"background-color: #90EE90; color: black; font-size: 24px; padding: 10px; margin-top: 10px;\">\n",
       "            The person who is shouting to a man in a tan jacket is also the one who is talking face to face to a woman in a pink shirt in front of her.\n",
       "        </div>\n",
       "        <div style=\"background-color: #FF6347; color: black; font-size: 24px; padding: 10px; margin-top: 10px;\">\n",
       "            The person who is shouting to a man in a tan jacket is also the one who is running forward to escape.\n",
       "        </div>\n",
       "    </div>\n",
       "    "
      ],
      "text/plain": [
       "<IPython.core.display.HTML object>"
      ]
     },
     "metadata": {},
     "output_type": "display_data"
    }
   ],
   "source": [
    "browse_neg_sample('coref', sample_idx=417)"
   ]
  },
  {
   "cell_type": "markdown",
   "metadata": {},
   "source": [
    "# 8. Chronology Test \n",
    "### Anything from [0, 1908) is a valid index."
   ]
  },
  {
   "cell_type": "code",
   "execution_count": 14,
   "metadata": {},
   "outputs": [
    {
     "name": "stdout",
     "output_type": "stream",
     "text": [
      "Video Name: v_t1TC-pegncQ_seg_60_70 | SAMPLE INDEX 32\n"
     ]
    },
    {
     "data": {
      "text/html": [
       "\n",
       "    <div style=\"margin-bottom: 20px; padding: 10px;\">\n",
       "        <video width=\"640\" height=\"480\" controls>\n",
       "          <source src=\"videos/velociti_videos_10s/v_t1TC-pegncQ_seg_60_70.mp4\" type=\"video/mp4\">\n",
       "        Your browser does not support the video tag.\n",
       "        </video>\n",
       "        <div style=\"background-color: #90EE90; color: black; font-size: 24px; padding: 10px; margin-top: 10px;\">\n",
       "            First, At the train station, a kid is shouting to a man. Then, A man is grabbing the bag on the suitcase in order to remove it.\n",
       "        </div>\n",
       "        <div style=\"background-color: #FF6347; color: black; font-size: 24px; padding: 10px; margin-top: 10px;\">\n",
       "            First, A man is grabbing the bag on the suitcase in order to remove it. Then, At the train station, a kid is shouting to a man.\n",
       "        </div>\n",
       "    </div>\n",
       "    "
      ],
      "text/plain": [
       "<IPython.core.display.HTML object>"
      ]
     },
     "metadata": {},
     "output_type": "display_data"
    }
   ],
   "source": [
    "browse_neg_sample('sequence', sample_idx=32)"
   ]
  },
  {
   "cell_type": "code",
   "execution_count": 22,
   "metadata": {},
   "outputs": [
    {
     "name": "stdout",
     "output_type": "stream",
     "text": [
      "Video Name: v_S-2cloMm4Lk_seg_95_105 | SAMPLE INDEX 1907\n"
     ]
    },
    {
     "data": {
      "text/html": [
       "\n",
       "    <div style=\"margin-bottom: 20px; padding: 10px;\">\n",
       "        <video width=\"640\" height=\"480\" controls>\n",
       "          <source src=\"videos/velociti_videos_10s/v_S-2cloMm4Lk_seg_95_105.mp4\" type=\"video/mp4\">\n",
       "        Your browser does not support the video tag.\n",
       "        </video>\n",
       "        <div style=\"background-color: #90EE90; color: black; font-size: 24px; padding: 10px; margin-top: 10px;\">\n",
       "            First, On the street, lined with parked cars, a man in police uniform is shooting a bullet ahead at the suspects. Then, On a street with fire, a man wearing a scary face mask is throwing a heavy metal object mightily to the ground.\n",
       "        </div>\n",
       "        <div style=\"background-color: #FF6347; color: black; font-size: 24px; padding: 10px; margin-top: 10px;\">\n",
       "            First, On a street with fire, a man wearing a scary face mask is throwing a heavy metal object mightily to the ground. Then, On the street, lined with parked cars, a man in police uniform is shooting a bullet ahead at the suspects.\n",
       "        </div>\n",
       "    </div>\n",
       "    "
      ],
      "text/plain": [
       "<IPython.core.display.HTML object>"
      ]
     },
     "metadata": {},
     "output_type": "display_data"
    }
   ],
   "source": [
    "browse_neg_sample('sequence', sample_idx=1907)"
   ]
  }
 ],
 "metadata": {
  "kernelspec": {
   "display_name": "explore",
   "language": "python",
   "name": "python3"
  },
  "language_info": {
   "codemirror_mode": {
    "name": "ipython",
    "version": 3
   },
   "file_extension": ".py",
   "mimetype": "text/x-python",
   "name": "python",
   "nbconvert_exporter": "python",
   "pygments_lexer": "ipython3",
   "version": "3.10.14"
  }
 },
 "nbformat": 4,
 "nbformat_minor": 2
}
